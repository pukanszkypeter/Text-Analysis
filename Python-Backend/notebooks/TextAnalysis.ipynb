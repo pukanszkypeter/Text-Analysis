{
 "cells": [
  {
   "cell_type": "code",
   "execution_count": 1,
   "metadata": {},
   "outputs": [],
   "source": [
    "# DB Connection\n",
    "import sqlite3\n",
    "\n",
    "# Casual\n",
    "import numpy as np\n",
    "import pandas as pd\n",
    "import matplotlib.pyplot as plt\n",
    "%matplotlib inline\n",
    "\n",
    "# For Naive Bayes\n",
    "from sklearn.naive_bayes import MultinomialNB\n",
    "from sklearn.pipeline import make_pipeline\n",
    "from sklearn.feature_extraction.text import TfidfVectorizer\n",
    "\n",
    "# For Random Forest\n",
    "from sklearn.ensemble import RandomForestClassifier\n",
    "\n",
    "# NLTK\n",
    "import nltk\n",
    "from nltk.corpus import stopwords\n",
    "import re\n",
    "\n",
    "# Train - Test Split\n",
    "from sklearn.model_selection import train_test_split\n",
    "\n",
    "# Testing\n",
    "from sklearn.metrics import classification_report, confusion_matrix, accuracy_score\n",
    "\n",
    "# Dump Models\n",
    "import pickle"
   ]
  },
  {
   "cell_type": "code",
   "execution_count": 2,
   "metadata": {},
   "outputs": [],
   "source": [
    "#################### SZÖVEGELEMZÉS (KATEGÓRIA PREDIKTÁLÁS, ÉRZELEM OSZTÁLYOZÁS) ####################"
   ]
  },
  {
   "cell_type": "code",
   "execution_count": 20,
   "metadata": {},
   "outputs": [],
   "source": [
    "# Adatbázis\n",
    "\n",
    "connection = sqlite3.connect(\"../data/podcasts.db\")"
   ]
  },
  {
   "cell_type": "code",
   "execution_count": 21,
   "metadata": {},
   "outputs": [],
   "source": [
    "#################### 1. KATEGÓRIA PREDIKCIÓ - TELJES ####################"
   ]
  },
  {
   "cell_type": "code",
   "execution_count": 22,
   "metadata": {},
   "outputs": [],
   "source": [
    "# Adat betöltés\n",
    "\n",
    "full_category_predict = pd.read_sql(\"select reviews.content, categories.category from reviews, categories where reviews.podcast_id = categories.podcast_id\", connection)\n",
    "full_category_predict_content = full_category_predict['content'].values.tolist()\n",
    "full_category_predict_category = full_category_predict['category'].values.tolist()"
   ]
  },
  {
   "cell_type": "code",
   "execution_count": 23,
   "metadata": {},
   "outputs": [],
   "source": [
    "# Train - Test Split\n",
    "\n",
    "X_train, X_test, y_train, y_test = train_test_split(full_category_predict_content, full_category_predict_category, test_size=0.05, random_state=0)"
   ]
  },
  {
   "cell_type": "code",
   "execution_count": 24,
   "metadata": {},
   "outputs": [
    {
     "name": "stdout",
     "output_type": "stream",
     "text": [
      "Wall time: 48.8 s\n"
     ]
    },
    {
     "data": {
      "text/plain": [
       "Pipeline(steps=[('tfidfvectorizer', TfidfVectorizer()),\n",
       "                ('multinomialnb', MultinomialNB())])"
      ]
     },
     "execution_count": 24,
     "metadata": {},
     "output_type": "execute_result"
    }
   ],
   "source": [
    "%%time\n",
    "# Tanulás\n",
    "\n",
    "fullcategorypredict = make_pipeline(TfidfVectorizer(), MultinomialNB())\n",
    "fullcategorypredict.fit(X_train, y_train)"
   ]
  },
  {
   "cell_type": "code",
   "execution_count": 29,
   "metadata": {},
   "outputs": [
    {
     "name": "stdout",
     "output_type": "stream",
     "text": [
      "['business']\n"
     ]
    }
   ],
   "source": [
    "# Prediktálás\n",
    "\n",
    "def predict_category_full(s):\n",
    "    pred = fullcategorypredict.predict([s])\n",
    "    return pred\n",
    "\n",
    "print(predict_category_full('bank system, valuta, credit card'))"
   ]
  },
  {
   "cell_type": "code",
   "execution_count": 31,
   "metadata": {},
   "outputs": [
    {
     "name": "stdout",
     "output_type": "stream",
     "text": [
      "[[ 223    0    0    0    6    0    0  262    0    0    0 1133   38    0\n",
      "     0    0    4   17   13 2559    1    0    0    0   10  177]\n",
      " [  11    0    0    0    0    0    0   63    0    0    0   37    2    0\n",
      "     0    0    0    1    0  196    0    0    0    0    3    0]\n",
      " [  10    0    0    0    0    0    0   36    0    0    0   54    5    0\n",
      "     0    0    0    0    0  189    0    0    0    0    0    0]\n",
      " [  26    0    0    0    0    0    0   17    0    0    0  123    3    0\n",
      "     0    0    0    0    0  314    0    0    0    0    0    1]\n",
      " [  60    0    0    0    0    0    0   24    0    0    0  303    1    0\n",
      "     0    0    0    2    0  579    0    0    0    0    0   18]\n",
      " [  53    0    0    0    0    0    0   63    0    0    0  108    6    0\n",
      "     0    0    0    2    3  244    0    0    0    0    4   33]\n",
      " [   0    0    0    0    0    0    0    1    0    0    0    3    0    0\n",
      "     0    0    0    0   12   26    0    1    0    0    0    0]\n",
      " [   9    0    0    0    0    0    0 3043    0    0    0  401  127    0\n",
      "     0    0    0    1   44 2627    0    0    0    0    9    6]\n",
      " [   4    0    0    0    0    0    0  961    1    0    0   78   43    0\n",
      "     0    0    0    0    4  693    0    0    0    0    3    6]\n",
      " [   0    0    0    0    0    0    0  709    0    1    0  118   11    0\n",
      "     0    0    0    0    1  424    0    0    0    0    1    0]\n",
      " [   1    0    0    0    0    0    0   79    0    0    1  162   36    0\n",
      "     0    0    4    1 1021 1319    0    0    0    0    0    5]\n",
      " [  16    0    0    0    0    0    0   41    0    1    1 7221   14    0\n",
      "     0    0   36    3   16 3910    0    0    0    0   19  154]\n",
      " [  14    0    0    0    0    0    0 1111    2    1    0  446  679    0\n",
      "     0    0    6   11  141 2849    2    1    0    0   15    9]\n",
      " [   0    0    0    0    0    0    0    0    0    0    0    0    0    0\n",
      "     0    0    0    0    2    5    0    0    0    0    0    0]\n",
      " [   0    0    0    0    0    0    0    1    0    0    0    2    1    0\n",
      "     2    0    0    2    8   17    0    0    0    0    4    0]\n",
      " [   0    0    0    0    0    0    0    1    0    0    0    3    0    0\n",
      "     0    0    0    0   19   51    0    0    0    0    0    0]\n",
      " [   6    0    0    0    0    0    0   92    0    0    0  835   69    0\n",
      "     0    0  157    0  109 1515    1    0    1    0    0   11]\n",
      " [  30    0    0    0    0    0    0   41    0    0    0  576   32    0\n",
      "     0    0    1   76   15 1211    0    0    0    0    6   14]\n",
      " [   6    0    0    0    0    0    0  138    0    0   13  311  165    0\n",
      "     0    0    4    1 1232 2353    0    0    0    0    2    6]\n",
      " [  20    0    0    0    0    0    0  264    0    0    0 2391   60    0\n",
      "     0    0    1   17  102 9911    0    4    2    0   19  100]\n",
      " [   2    0    0    0    0    0    0   63    0    0    0  412   11    0\n",
      "     0    0    0    3   25 1837    1    0    0    0    7    3]\n",
      " [   6    0    0    0    0    0    0   24    0    0    0  164    7    0\n",
      "     0    0    1    5   28  679    0    5    0    0    2    0]\n",
      " [   3    0    0    0    0    0    0   36    0    0    0   74   14    0\n",
      "     0    0    0    2    2  767    0    0    0    0    4    0]\n",
      " [   0    0    0    0    0    0    0   53    0    0    0   63  110    0\n",
      "     0    0    0    0  208  678    0    0    0    0    0    0]\n",
      " [   5    0    0    0    0    0    0  226    0    0    0  355   47    0\n",
      "     0    0    1    1    3  877    0    0    0    0   55   12]\n",
      " [  28    0    0    0    0    0    0   31    0    0    0 2365    6    0\n",
      "     0    0    0    2    5 2302    0    0    0    0   11  970]]\n"
     ]
    },
    {
     "name": "stderr",
     "output_type": "stream",
     "text": [
      "C:\\Users\\Zen\\anaconda3\\lib\\site-packages\\sklearn\\metrics\\_classification.py:1245: UndefinedMetricWarning: Precision and F-score are ill-defined and being set to 0.0 in labels with no predicted samples. Use `zero_division` parameter to control this behavior.\n",
      "  _warn_prf(average, modifier, msg_start, len(result))\n",
      "C:\\Users\\Zen\\anaconda3\\lib\\site-packages\\sklearn\\metrics\\_classification.py:1245: UndefinedMetricWarning: Precision and F-score are ill-defined and being set to 0.0 in labels with no predicted samples. Use `zero_division` parameter to control this behavior.\n",
      "  _warn_prf(average, modifier, msg_start, len(result))\n"
     ]
    },
    {
     "name": "stdout",
     "output_type": "stream",
     "text": [
      "                                   precision    recall  f1-score   support\n",
      "\n",
      "                             arts       0.42      0.05      0.09      4443\n",
      "                      arts-design       0.00      0.00      0.00       313\n",
      "              arts-fashion-beauty       0.00      0.00      0.00       294\n",
      "                        arts-food       0.00      0.00      0.00       484\n",
      "             arts-performing-arts       0.00      0.00      0.00       987\n",
      "                 arts-visual-arts       0.00      0.00      0.00       516\n",
      "                         buddhism       0.00      0.00      0.00        43\n",
      "                         business       0.41      0.49      0.45      6267\n",
      "                 business-careers       0.33      0.00      0.00      1793\n",
      "               business-investing       0.33      0.00      0.00      1265\n",
      "                     christianity       0.07      0.00      0.00      2629\n",
      "                           comedy       0.41      0.63      0.50     11432\n",
      "                        education       0.46      0.13      0.20      5287\n",
      "                         hinduism       0.00      0.00      0.00         7\n",
      "                            islam       1.00      0.05      0.10        37\n",
      "                          judaism       0.00      0.00      0.00        74\n",
      "                      kids-family       0.73      0.06      0.10      2796\n",
      "                            music       0.52      0.04      0.07      2002\n",
      "            religion-spirituality       0.41      0.29      0.34      4231\n",
      "                  society-culture       0.26      0.77      0.39     12891\n",
      "society-culture-personal-journals       0.20      0.00      0.00      2364\n",
      "       society-culture-philosophy       0.45      0.01      0.01       921\n",
      "    society-culture-places-travel       0.00      0.00      0.00       902\n",
      "                     spirituality       0.00      0.00      0.00      1112\n",
      "                       technology       0.32      0.03      0.06      1582\n",
      "                          tv-film       0.64      0.17      0.27      5720\n",
      "\n",
      "                         accuracy                           0.33     70392\n",
      "                        macro avg       0.27      0.10      0.10     70392\n",
      "                     weighted avg       0.37      0.33      0.26     70392\n",
      "\n",
      "0.3349528355494943\n"
     ]
    },
    {
     "name": "stderr",
     "output_type": "stream",
     "text": [
      "C:\\Users\\Zen\\anaconda3\\lib\\site-packages\\sklearn\\metrics\\_classification.py:1245: UndefinedMetricWarning: Precision and F-score are ill-defined and being set to 0.0 in labels with no predicted samples. Use `zero_division` parameter to control this behavior.\n",
      "  _warn_prf(average, modifier, msg_start, len(result))\n"
     ]
    }
   ],
   "source": [
    "# Tesztelés\n",
    "\n",
    "predictions = fullcategorypredict.predict(X_test)\n",
    "\n",
    "print(confusion_matrix(y_test,predictions))\n",
    "print(classification_report(y_test,predictions))\n",
    "print(accuracy_score(y_test, predictions))"
   ]
  },
  {
   "cell_type": "code",
   "execution_count": 22,
   "metadata": {},
   "outputs": [],
   "source": [
    "# Mentés\n",
    "\n",
    "pickle.dump(fullcategorypredict, open('../models/full-category-predict.pkl','wb'))"
   ]
  },
  {
   "cell_type": "code",
   "execution_count": 23,
   "metadata": {},
   "outputs": [],
   "source": [
    "#################### 2. KATEGÓRIA PREDIKCIÓ - RÉSZLEGES ####################"
   ]
  },
  {
   "cell_type": "code",
   "execution_count": 25,
   "metadata": {},
   "outputs": [],
   "source": [
    "# Adat betöltés\n",
    "\n",
    "partial_category_predict = pd.read_sql(\"select reviews.content, categories.category from reviews, categories where reviews.podcast_id = categories.podcast_id\", connection)"
   ]
  },
  {
   "cell_type": "code",
   "execution_count": 26,
   "metadata": {},
   "outputs": [],
   "source": [
    "# Szelektálás\n",
    "\n",
    "categories = ['technology', 'arts-food','hinduism', 'spirituality']\n",
    "\n",
    "partial_category_predict = partial_category_predict[partial_category_predict['category'].isin(categories)]\n",
    "category = partial_category_predict['category'].values.tolist()\n",
    "content = partial_category_predict['content'].values.tolist()"
   ]
  },
  {
   "cell_type": "code",
   "execution_count": 27,
   "metadata": {},
   "outputs": [
    {
     "name": "stdout",
     "output_type": "stream",
     "text": [
      "Wall time: 2.35 s\n"
     ]
    },
    {
     "data": {
      "text/plain": [
       "Pipeline(steps=[('tfidfvectorizer', TfidfVectorizer()),\n",
       "                ('multinomialnb', MultinomialNB())])"
      ]
     },
     "execution_count": 27,
     "metadata": {},
     "output_type": "execute_result"
    }
   ],
   "source": [
    "%%time\n",
    "# Tanulás\n",
    "\n",
    "partialcategorypredict = make_pipeline(TfidfVectorizer(), MultinomialNB())\n",
    "partialcategorypredict.fit(content, category)"
   ]
  },
  {
   "cell_type": "code",
   "execution_count": 29,
   "metadata": {},
   "outputs": [
    {
     "name": "stdout",
     "output_type": "stream",
     "text": [
      "['arts-food']\n"
     ]
    }
   ],
   "source": [
    "# Prediktálás\n",
    "\n",
    "def predict_category_partial(s):\n",
    "    pred = partialcategorypredict.predict([s])\n",
    "    return pred\n",
    "\n",
    "print(predict_category_partial('hamburger, tasty, cheese, milk'))"
   ]
  },
  {
   "cell_type": "code",
   "execution_count": 30,
   "metadata": {},
   "outputs": [],
   "source": [
    "# Mentés\n",
    "\n",
    "# Web alkalmazás logika"
   ]
  },
  {
   "cell_type": "code",
   "execution_count": 31,
   "metadata": {},
   "outputs": [],
   "source": [
    "#################### 3. ÉRZELEM OSZTÁLYOZÁS ####################\n",
    "\n",
    "# https://stackabuse.com/python-for-nlp-sentiment-analysis-with-scikit-learn/"
   ]
  },
  {
   "cell_type": "code",
   "execution_count": 5,
   "metadata": {},
   "outputs": [
    {
     "data": {
      "text/plain": [
       "1    1034569\n",
       "0     113645\n",
       "Name: sentiment, dtype: int64"
      ]
     },
     "execution_count": 5,
     "metadata": {},
     "output_type": "execute_result"
    }
   ],
   "source": [
    "# Adat betöltés\n",
    "\n",
    "sentiment_data = pd.read_sql(\"\"\"\n",
    "    select\n",
    "        content,\n",
    "        case when rating < 4 then 0\n",
    "            when rating > 3 then 1\n",
    "        end as sentiment\n",
    "    from reviews\n",
    "\"\"\", connection)\n",
    "\n",
    "sentiment_data.sentiment.value_counts()"
   ]
  },
  {
   "cell_type": "code",
   "execution_count": 6,
   "metadata": {},
   "outputs": [],
   "source": [
    "# Adat csökkentés\n",
    "\n",
    "sentiment_data_positive = sentiment_data[sentiment_data['sentiment'] == 1].head(110000)\n",
    "sentiment_data_negative = sentiment_data[sentiment_data['sentiment'] == 0].head(110000)\n",
    "\n",
    "frames = [sentiment_data_positive, sentiment_data_negative]\n",
    "\n",
    "sentiment = pd.concat(frames, ignore_index=True)\n",
    "features = sentiment.content\n",
    "labels = sentiment.sentiment"
   ]
  },
  {
   "cell_type": "code",
   "execution_count": 7,
   "metadata": {},
   "outputs": [],
   "source": [
    "# Tisztítás\n",
    "\n",
    "processed_features = []\n",
    "\n",
    "for sentence in range(0, len(features)):\n",
    "    # Remove all the special characters\n",
    "    processed_feature = re.sub(r'\\W', ' ', str(features[sentence]))\n",
    "\n",
    "    # remove all single characters\n",
    "    processed_feature= re.sub(r'\\s+[a-zA-Z]\\s+', ' ', processed_feature)\n",
    "\n",
    "    # Remove single characters from the start\n",
    "    processed_feature = re.sub(r'\\^[a-zA-Z]\\s+', ' ', processed_feature) \n",
    "\n",
    "    # Substituting multiple spaces with single space\n",
    "    processed_feature = re.sub(r'\\s+', ' ', processed_feature, flags=re.I)\n",
    "\n",
    "    # Removing prefixed 'b'\n",
    "    processed_feature = re.sub(r'^b\\s+', '', processed_feature)\n",
    "\n",
    "    # Converting to Lowercase\n",
    "    processed_feature = processed_feature.lower()\n",
    "\n",
    "    processed_features.append(processed_feature)"
   ]
  },
  {
   "cell_type": "code",
   "execution_count": 9,
   "metadata": {},
   "outputs": [
    {
     "name": "stdout",
     "output_type": "stream",
     "text": [
      "Wall time: 6.78 s\n"
     ]
    }
   ],
   "source": [
    "%%time\n",
    "# TF - IDF\n",
    "\n",
    "vectorizer = TfidfVectorizer (max_features=200, min_df=7, max_df=0.8, stop_words=stopwords.words('english'))\n",
    "processed_features = vectorizer.fit_transform(processed_features).toarray()"
   ]
  },
  {
   "cell_type": "code",
   "execution_count": 13,
   "metadata": {},
   "outputs": [],
   "source": [
    "# TF - IDF Mentés\n",
    "\n",
    "pickle.dump(vectorizer, open('../models/tfidf.pkl','wb'))"
   ]
  },
  {
   "cell_type": "code",
   "execution_count": 10,
   "metadata": {},
   "outputs": [],
   "source": [
    "# Train - Test Split\n",
    "\n",
    "X_train, X_test, y_train, y_test = train_test_split(processed_features, labels, test_size=0.05, random_state=0)"
   ]
  },
  {
   "cell_type": "code",
   "execution_count": 11,
   "metadata": {},
   "outputs": [
    {
     "name": "stdout",
     "output_type": "stream",
     "text": [
      "Wall time: 5min 47s\n"
     ]
    },
    {
     "data": {
      "text/plain": [
       "RandomForestClassifier(n_estimators=200, random_state=0)"
      ]
     },
     "execution_count": 11,
     "metadata": {},
     "output_type": "execute_result"
    }
   ],
   "source": [
    "%%time\n",
    "# Tanulás\n",
    "\n",
    "text_classifier = RandomForestClassifier(n_estimators=200, random_state=0)\n",
    "text_classifier.fit(X_train, y_train)"
   ]
  },
  {
   "cell_type": "code",
   "execution_count": 12,
   "metadata": {},
   "outputs": [
    {
     "name": "stdout",
     "output_type": "stream",
     "text": [
      "[[4558  863]\n",
      " [1148 4431]]\n",
      "              precision    recall  f1-score   support\n",
      "\n",
      "           0       0.80      0.84      0.82      5421\n",
      "           1       0.84      0.79      0.82      5579\n",
      "\n",
      "    accuracy                           0.82     11000\n",
      "   macro avg       0.82      0.82      0.82     11000\n",
      "weighted avg       0.82      0.82      0.82     11000\n",
      "\n",
      "0.8171818181818182\n"
     ]
    }
   ],
   "source": [
    "# Tesztelés\n",
    "\n",
    "predictions = text_classifier.predict(X_test)\n",
    "\n",
    "print(confusion_matrix(y_test,predictions))\n",
    "print(classification_report(y_test,predictions))\n",
    "print(accuracy_score(y_test, predictions))"
   ]
  },
  {
   "cell_type": "code",
   "execution_count": 14,
   "metadata": {},
   "outputs": [],
   "source": [
    "# Model Mentés\n",
    "\n",
    "pickle.dump(text_classifier, open('../models/text-classifier.pkl','wb'))"
   ]
  }
 ],
 "metadata": {
  "kernelspec": {
   "display_name": "Python 3",
   "language": "python",
   "name": "python3"
  },
  "language_info": {
   "codemirror_mode": {
    "name": "ipython",
    "version": 3
   },
   "file_extension": ".py",
   "mimetype": "text/x-python",
   "name": "python",
   "nbconvert_exporter": "python",
   "pygments_lexer": "ipython3",
   "version": "3.8.3"
  }
 },
 "nbformat": 4,
 "nbformat_minor": 4
}
